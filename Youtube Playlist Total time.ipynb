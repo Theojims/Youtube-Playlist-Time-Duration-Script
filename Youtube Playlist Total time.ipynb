{
 "cells": [
  {
   "cell_type": "code",
   "execution_count": null,
   "id": "b1bab29c",
   "metadata": {},
   "outputs": [],
   "source": [
    "\n",
    "# This module  is used to create a Google API service object for interacting with various Google services.\n",
    "from googleapiclient.discovery import build\n",
    "\n",
    "# This module provides various functions to parse and manipulate ISO 8601 date/time strings.\n",
    "import isodate\n",
    "\n",
    "# This module  represents a duration, which is the difference between two dates or times.\n",
    "from datetime import timedelta\n"
   ]
  },
  {
   "cell_type": "markdown",
   "id": "ceba9726",
   "metadata": {},
   "source": [
    "Google Developers Console - https://console.developers.google.com/ # It provides a central place to create and manage projects, enable APIs, set up credentials (like API keys, OAuth client IDs, service accounts, etc.), monitor usage, and access billing information. \n",
    "Google API Python Client - https://github.com/googleapis/google-api-python-client #t acts as a Python wrapper for Google APIs, providing a convenient and consistent interface to interact with these APIs.\n",
    "YouTube API - https://developers.google.com/youtube/v3 #It provides methods to search for videos, retrieve video information, manage playlists, get channel data, and perform other YouTube-related tasks. \n"
   ]
  },
  {
   "cell_type": "code",
   "execution_count": null,
   "id": "045886ce",
   "metadata": {},
   "outputs": [],
   "source": [
    "\n",
    "# Building a YouTube API client using the developer key provided (you should replace \" \" with your actual YouTube Data API developer key).\n",
    "youtube = build(\"youtube\", \"v3\", developerKey=\"YOUR_YOUTUBE_DATA_API_KEY\")\n",
    "\n",
    "# This query fetches the statistics of a channel with the specified 'forUsername'.\n",
    "#ForUSername = Youtube username for user\n",
    "channel_id = youtube.channels().list(part=\"statistics\", forUsername=' ')\n",
    "\n",
    "# This query fetches the playlists with both 'contentDetails' and 'snippet' parts for the specified 'channelId'.\n",
    "playlist = youtube.playlists().list(part=\"contentDetails, snippet\", channelId=' ')"
   ]
  },
  {
   "cell_type": "markdown",
   "id": "083b558a",
   "metadata": {},
   "source": [
    "Once the above code is executed once, we only need to french any playlistId and insert the playitem"
   ]
  },
  {
   "cell_type": "code",
   "execution_count": null,
   "id": "6e89ac1c",
   "metadata": {},
   "outputs": [],
   "source": [
    "# Initializing 'nextPageToken' to None for the while loop\n",
    "nextPageToken = None\n",
    "\n",
    "while True:\n",
    "    # Retrieving playlist items with both 'contentDetails' and 'snippet' parts for the specified 'playlistId'\n",
    "    # Also, setting 'maxResults' to 50 to get a maximum of 50 items per request and using 'pageToken' to handle pagination.\n",
    "    playitem = youtube.playlistItems().list(\n",
    "        part=\"contentDetails,snippet\",\n",
    "        playlistId='',\n",
    "        maxResults=50,\n",
    "        pageToken=nextPageToken\n",
    "    )#insert your playlistId by going to any youtube channel, click on specified playlist folder and check the url\n",
    "    # Executing the API request\n",
    "    pl_response = playitem.execute()\n",
    "\n",
    "    # Creating an empty list to store the video IDs from the playlist response\n",
    "    Video_id = []\n",
    "    for item in pl_response[\"items\"]:\n",
    "        # Extracting video IDs from the playlist response and appending them to the 'Video_id' list\n",
    "        ids = item['contentDetails']['videoId']\n",
    "        Video_id.append(ids)\n",
    "    \n",
    "    # Retrieving video details for the extracted video IDs using the 'videos().list()' method\n",
    "    # This query fetches video details with the 'contentDetails' part for the specified video IDs.\n",
    "    video_request = youtube.videos().list(\n",
    "        part='contentDetails',\n",
    "        id=\",\".join(Video_id)\n",
    "    )\n",
    "    # Executing the API request\n",
    "    video_response = video_request.execute()\n",
    "\n",
    "    # Calculating the total duration of all videos in seconds\n",
    "    total_seconds = 0\n",
    "    for item in video_response[\"items\"]:\n",
    "        # Extracting video durations from the video response and parsing them using 'isodate' module\n",
    "        ids = item['contentDetails']['duration']\n",
    "        dt = isodate.parse_duration(ids)\n",
    "        total_seconds += dt.total_seconds()\n",
    "    total_seconds = int(total_seconds)\n",
    "\n",
    "    # Converting the total duration to hours, minutes, and seconds\n",
    "    minutes, seconds = divmod(total_seconds, 60)\n",
    "    hours, minutes = divmod(minutes, 60)\n",
    "\n",
    "    # Updating the 'nextPageToken' for the next page of playlist items, if available\n",
    "    nextPageToken = pl_response.get(\"nextPageToken\")\n",
    "    if not nextPageToken:\n",
    "        break  # Break the loop if there are no more pages\n",
    "\n",
    "# Printing the total duration of all videos in the playlist\n",
    "print(f'Total video time: {hours}H:{minutes}M:{seconds}S')\n",
    "\n"
   ]
  },
  {
   "cell_type": "raw",
   "id": "9c5a8145",
   "metadata": {},
   "source": []
  }
 ],
 "metadata": {
  "kernelspec": {
   "display_name": "Python 3 (ipykernel)",
   "language": "python",
   "name": "python3"
  },
  "language_info": {
   "codemirror_mode": {
    "name": "ipython",
    "version": 3
   },
   "file_extension": ".py",
   "mimetype": "text/x-python",
   "name": "python",
   "nbconvert_exporter": "python",
   "pygments_lexer": "ipython3",
   "version": "3.11.1"
  }
 },
 "nbformat": 4,
 "nbformat_minor": 5
}
